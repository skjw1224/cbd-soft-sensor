{
 "cells": [
  {
   "cell_type": "code",
   "execution_count": 1,
   "metadata": {
    "collapsed": true,
    "pycharm": {
     "name": "#%% Parameters\n"
    }
   },
   "outputs": [],
   "source": [
    "mu_max = 0.2  # Maximum growth rate\n",
    "K_s = 1.0  # Monod constant\n",
    "Y_xs = 0.5 # Cell yield coefficient\n",
    "Y_px = 0.2  # Product yield coefficient"
   ]
  },
  {
   "cell_type": "code",
   "execution_count": 2,
   "outputs": [],
   "source": [
    "X = 0.05  # Concentration of the cells\n",
    "S = 10   # Concentration of the substrate\n",
    "P = 0   # Concentration of the product\n",
    "V = 1   # Reactor volume\n",
    "\n",
    "x0 = [X, S, P, V]  # State vector"
   ],
   "metadata": {
    "collapsed": false,
    "pycharm": {
     "name": "#%% States\n"
    }
   }
  },
  {
   "cell_type": "code",
   "execution_count": 3,
   "outputs": [],
   "source": [
    "F = 0.05  # Feed rate\n",
    "S_f = 10  # Concentration of substrate in feed"
   ],
   "metadata": {
    "collapsed": false,
    "pycharm": {
     "name": "#%%\n"
    }
   }
  },
  {
   "cell_type": "code",
   "execution_count": 4,
   "outputs": [],
   "source": [
    "def dxdt(t, x):\n",
    "    [X, S, P, V] = x\n",
    "\n",
    "    mu = mu_max * S / (K_s + S)\n",
    "    rg = mu * X\n",
    "    rp = Y_px * rg\n",
    "    dVdt = F\n",
    "    dXdt = 1/V*(V * rg - dVdt*X)\n",
    "    dPdt = 1/V*(V * rp - dVdt*P)\n",
    "    dSdt = 1/V*(F * S_f - 1 / Y_xs * V * rg - dVdt*S)\n",
    "\n",
    "    return [dXdt, dSdt, dPdt, dVdt]"
   ],
   "metadata": {
    "collapsed": false,
    "pycharm": {
     "name": "#%%\n"
    }
   }
  },
  {
   "cell_type": "code",
   "execution_count": 5,
   "outputs": [],
   "source": [
    "import scipy.integrate\n",
    "import numpy"
   ],
   "metadata": {
    "collapsed": false,
    "pycharm": {
     "name": "#%%\n"
    }
   }
  },
  {
   "cell_type": "code",
   "execution_count": 6,
   "outputs": [],
   "source": [
    "import matplotlib.pyplot as plt\n",
    "%matplotlib inline"
   ],
   "metadata": {
    "collapsed": false,
    "pycharm": {
     "name": "#%%\n"
    }
   }
  },
  {
   "cell_type": "code",
   "execution_count": 7,
   "outputs": [],
   "source": [
    "tspan = [0, 30]"
   ],
   "metadata": {
    "collapsed": false,
    "pycharm": {
     "name": "#%%\n"
    }
   }
  },
  {
   "cell_type": "code",
   "execution_count": 8,
   "outputs": [],
   "source": [
    "tsmooth = numpy.linspace(0, 30)"
   ],
   "metadata": {
    "collapsed": false,
    "pycharm": {
     "name": "#%%\n"
    }
   }
  },
  {
   "cell_type": "code",
   "execution_count": 9,
   "outputs": [],
   "source": [
    "Fs = [0.05, 0.02]"
   ],
   "metadata": {
    "collapsed": false,
    "pycharm": {
     "name": "#%%\n"
    }
   }
  },
  {
   "cell_type": "code",
   "execution_count": 10,
   "outputs": [],
   "source": [
    "results = []\n",
    "for F in Fs:\n",
    "    out = scipy.integrate.solve_ivp(dxdt, tspan, x0, t_eval=tsmooth)\n",
    "    results.append(out)"
   ],
   "metadata": {
    "collapsed": false,
    "pycharm": {
     "name": "#%%\n"
    }
   }
  },
  {
   "cell_type": "code",
   "execution_count": 11,
   "outputs": [],
   "source": [
    "names = ['X', 'S', 'P', 'V']\n",
    "units = {'X': 'g/L', 'S': 'g/L', 'P': 'g/L', 'V': 'L'}"
   ],
   "metadata": {
    "collapsed": false,
    "pycharm": {
     "name": "#%%\n"
    }
   }
  },
  {
   "cell_type": "code",
   "execution_count": 12,
   "outputs": [
    {
     "data": {
      "text/plain": "<Figure size 432x288 with 4 Axes>",
      "image/png": "[encoded data removed]"
     },
     "metadata": {
      "needs_background": "light"
     },
     "output_type": "display_data"
    }
   ],
   "source": [
    "ax = {}\n",
    "\n",
    "fig, [[ax['X'], ax['P']], [ax['S'], ax['V']]] = plt.subplots(2, 2)\n",
    "\n",
    "for F, out in zip(Fs, results):\n",
    "    var = {name: y for name, y in zip(names, out.y)}\n",
    "    for name in names:\n",
    "        ax[name].plot(out.t, var[name])\n",
    "        ax[name].set_ylabel(f'{name} ({units[name]})')\n",
    "        ax[name].set_xlabel('Time (hr)')\n",
    "plt.tight_layout()"
   ],
   "metadata": {
    "collapsed": false,
    "pycharm": {
     "name": "#%%\n"
    }
   }
  },
  {
   "cell_type": "code",
   "execution_count": null,
   "outputs": [],
   "source": [],
   "metadata": {
    "collapsed": false,
    "pycharm": {
     "name": "#%%\n"
    }
   }
  }
 ],
 "metadata": {
  "kernelspec": {
   "name": "pycharm-161d680c",
   "language": "python",
   "display_name": "PyCharm (cbd-soft-sensor)"
  },
  "language_info": {
   "codemirror_mode": {
    "name": "ipython",
    "version": 2
   },
   "file_extension": ".py",
   "mimetype": "text/x-python",
   "name": "python",
   "nbconvert_exporter": "python",
   "pygments_lexer": "ipython2",
   "version": "2.7.6"
  }
 },
 "nbformat": 4,
 "nbformat_minor": 0
}